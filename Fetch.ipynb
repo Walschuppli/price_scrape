{
 "cells": [
  {
   "cell_type": "markdown",
   "metadata": {},
   "source": [
    "# Imports"
   ]
  },
  {
   "cell_type": "code",
   "execution_count": 1,
   "metadata": {},
   "outputs": [],
   "source": [
    "from bs4 import BeautifulSoup\n",
    "import requests\n",
    "import re\n",
    "import pandas as pd\n",
    "import time\n",
    "from tqdm import tqdm\n",
    "\n",
    "from selenium import webdriver"
   ]
  },
  {
   "cell_type": "markdown",
   "metadata": {},
   "source": [
    "Selenium notes:\n",
    "\n",
    "- https://stackoverflow.com/questions/40555930/selenium-chromedriver-executable-needs-to-be-in-path\n",
    "- https://able.bio/rhett/web-scraping-with-python-using-beautiful-soup-and-selenium--44jqsra\n",
    "- https://dirtycoder.net/2018/02/07/using-chrome-in-headless-mode-with-selenium-and-python/\n",
    "- https://stackoverflow.com/questions/8049520/web-scraping-javascript-page-with-python\n"
   ]
  },
  {
   "cell_type": "markdown",
   "metadata": {},
   "source": [
    "# done"
   ]
  },
  {
   "cell_type": "markdown",
   "metadata": {},
   "source": [
    "## URL UTILS"
   ]
  },
  {
   "cell_type": "code",
   "execution_count": 3,
   "metadata": {},
   "outputs": [],
   "source": [
    "def url_gen(year, week):\n",
    "    base_url = f'https://enhver.no/priser'\n",
    "    \n",
    "    url = f'{base_url}/{week}/{year}'\n",
    "   \n",
    "    return url"
   ]
  },
  {
   "cell_type": "code",
   "execution_count": 4,
   "metadata": {},
   "outputs": [],
   "source": [
    "#dicts to loop over\n",
    "y2019 = {i : 2019 for i in range(1,53,1)}\n",
    "y2020 = {i : 2020 for i in range(1,45,1)}"
   ]
  },
  {
   "cell_type": "code",
   "execution_count": 5,
   "metadata": {},
   "outputs": [],
   "source": [
    "urls_2019 = []\n",
    "for w,y in y2019.items():\n",
    "    urls_2019.append(url_gen(year = y, week = w))"
   ]
  },
  {
   "cell_type": "code",
   "execution_count": 6,
   "metadata": {},
   "outputs": [],
   "source": [
    "urls_2020 = []\n",
    "for w,y in y2020.items():\n",
    "    urls_2020.append(url_gen(year = y, week = w))"
   ]
  },
  {
   "cell_type": "code",
   "execution_count": 7,
   "metadata": {},
   "outputs": [],
   "source": [
    "urls = urls_2019 + urls_2020"
   ]
  },
  {
   "cell_type": "markdown",
   "metadata": {},
   "source": [
    "## SINGLE URL FETCH"
   ]
  },
  {
   "cell_type": "code",
   "execution_count": 8,
   "metadata": {},
   "outputs": [],
   "source": [
    "def fetch_single_url_selenium(url, executeable_path = r'C:\\Users\\wschupp\\Desktop\\NOMNCA - retail price scrape\\chromedriver.exe'):\n",
    "    \n",
    "    # Initialising driver\n",
    "    chrome_options = webdriver.ChromeOptions()\n",
    "    chrome_options.add_argument('headless')\n",
    "    chrome_options.add_argument('--no-sandbox')\n",
    "    \n",
    "    driver = webdriver.Chrome(options = chrome_options)\n",
    "    driver = webdriver.Chrome(executable_path=executeable_path, options = chrome_options)\n",
    "    driver.get(url)\n",
    "    \n",
    "    #fetching name, id, prices\n",
    "    contents = _contents(driver.find_elements_by_class_name('product'))\n",
    "    \n",
    "    #adding dates to each content in contents\n",
    "    for i in contents:\n",
    "        i['year'] = int(url[-4:])\n",
    "        week = re.search(r'/(\\d+)/', string = url).group(1)\n",
    "        i['week'] = int(week)\n",
    "    \n",
    "    # closing browser\n",
    "    driver.quit()\n",
    "    \n",
    "    # into df\n",
    "    contents_df = pd.DataFrame(contents)\n",
    "    \n",
    "    return contents_df\n",
    "    "
   ]
  },
  {
   "cell_type": "code",
   "execution_count": 9,
   "metadata": {},
   "outputs": [],
   "source": [
    "def _contents(webelements):\n",
    "    '''\n",
    "    Loops over each row\n",
    "    '''\n",
    "    container = []\n",
    "    \n",
    "    for webelement in webelements:\n",
    "        container.append(_row_contents(webelement))\n",
    "    \n",
    "    return container\n",
    "    "
   ]
  },
  {
   "cell_type": "code",
   "execution_count": 10,
   "metadata": {},
   "outputs": [],
   "source": [
    "def _row_contents(webelement):\n",
    "    \n",
    "    container = {}\n",
    "    \n",
    "    #id\n",
    "    container['product_id'] = webelement.get_attribute('data-product-id')\n",
    "    \n",
    "    #long str with all content\n",
    "    content_str = webelement.text\n",
    "    content_list = content_str.split('\\n')\n",
    "    \n",
    "    #names and type\n",
    "    container['product_name'] = content_list[0].strip()\n",
    "    container['product_type'] = content_list[1].strip()\n",
    "    \n",
    "    #Prices\n",
    "    try:\n",
    "        price_list = content_list[2].split(' ')\n",
    "        price_list = [float(i) for i in price_list]\n",
    "    except:\n",
    "        price_list = [None for i in range(0,6)]\n",
    "    \n",
    "    container['price_KIWI'] = price_list[0]\n",
    "    container['price_MENY'] = price_list[1]\n",
    "    container['price_OBS'] = price_list[2]\n",
    "    container['price_REMA 1000'] = price_list[3]\n",
    "    container['price_SPAR'] = price_list[4]\n",
    "    container['price_EXTRA'] = price_list[5]\n",
    "\n",
    "    \n",
    "    return container\n",
    "    \n",
    "    \n",
    "    "
   ]
  },
  {
   "cell_type": "markdown",
   "metadata": {},
   "source": [
    "## Loop over all urls"
   ]
  },
  {
   "cell_type": "code",
   "execution_count": 11,
   "metadata": {},
   "outputs": [],
   "source": [
    "def fetch_multiple_url_selenium(urls, sleep = 5, **kwargs):\n",
    "    container = []\n",
    "    \n",
    "    for url in tqdm(urls):\n",
    "                    \n",
    "        container.append(fetch_single_url_selenium(url))\n",
    "        \n",
    "        time.sleep(sleep)\n",
    "        \n",
    "    container_dfs = pd.concat(container)\n",
    "        \n",
    "    return container_dfs\n",
    "        \n",
    "    "
   ]
  },
  {
   "cell_type": "code",
   "execution_count": 12,
   "metadata": {},
   "outputs": [
    {
     "data": {
      "text/plain": [
       "'https://enhver.no/priser/14/2019'"
      ]
     },
     "execution_count": 12,
     "metadata": {},
     "output_type": "execute_result"
    }
   ],
   "source": [
    "urls[13]"
   ]
  },
  {
   "cell_type": "code",
   "execution_count": 13,
   "metadata": {},
   "outputs": [
    {
     "name": "stderr",
     "output_type": "stream",
     "text": [
      "100%|██████████████████████████████████████████████████████████████████████████████████| 96/96 [27:55<00:00, 17.45s/it]\n"
     ]
    }
   ],
   "source": [
    "test = fetch_multiple_url_selenium(urls = urls)"
   ]
  },
  {
   "cell_type": "code",
   "execution_count": 14,
   "metadata": {},
   "outputs": [],
   "source": [
    "test.to_csv('data_2019_2020.csv', encoding= 'utf-8')"
   ]
  },
  {
   "cell_type": "markdown",
   "metadata": {},
   "source": [
    "# dev"
   ]
  },
  {
   "cell_type": "markdown",
   "metadata": {},
   "source": [
    "## URL gens"
   ]
  },
  {
   "cell_type": "code",
   "execution_count": null,
   "metadata": {},
   "outputs": [],
   "source": [
    "def url_gen(year, week):\n",
    "    base_url = f'https://enhver.no/priser'\n",
    "    \n",
    "    url = f'{base_url}/{week}/{year}'\n",
    "   \n",
    "    return url"
   ]
  },
  {
   "cell_type": "code",
   "execution_count": null,
   "metadata": {},
   "outputs": [],
   "source": [
    "#dicts to loop over\n",
    "y2019 = {i : 2019 for i in range(1,53,1)}\n",
    "y2020 = {i : 2020 for i in range(1,44,1)}"
   ]
  },
  {
   "cell_type": "code",
   "execution_count": null,
   "metadata": {},
   "outputs": [],
   "source": [
    "urls_2019 = []\n",
    "for w,y in y2019.items():\n",
    "    urls_2019.append(url_gen(year = y, week = w))"
   ]
  },
  {
   "cell_type": "code",
   "execution_count": null,
   "metadata": {},
   "outputs": [],
   "source": [
    "urls_2020 = []\n",
    "for w,y in y2020.items():\n",
    "    urls_2020.append(url_gen(year = y, week = w))"
   ]
  },
  {
   "cell_type": "code",
   "execution_count": null,
   "metadata": {},
   "outputs": [],
   "source": [
    "urls = urls_2019 + urls_2020"
   ]
  },
  {
   "cell_type": "markdown",
   "metadata": {},
   "source": [
    "## fetch for single url"
   ]
  },
  {
   "cell_type": "code",
   "execution_count": null,
   "metadata": {},
   "outputs": [],
   "source": [
    "url = urls[-2]\n",
    "print(url)"
   ]
  },
  {
   "cell_type": "code",
   "execution_count": null,
   "metadata": {},
   "outputs": [],
   "source": [
    "def fetch_single_url(url):\n",
    "    \n",
    "    #Sending quest -> into soup\n",
    "    response = requests.get(url)\n",
    "    if response.status_code == 200:\n",
    "        html = response.text\n",
    "        soup = BeautifulSoup(html, 'lxml')\n",
    "        \n",
    "    return soup\n",
    "    "
   ]
  },
  {
   "cell_type": "markdown",
   "metadata": {},
   "source": [
    "### SOUP"
   ]
  },
  {
   "cell_type": "code",
   "execution_count": null,
   "metadata": {},
   "outputs": [],
   "source": [
    "soup = fetch_single_url(url)"
   ]
  },
  {
   "cell_type": "code",
   "execution_count": null,
   "metadata": {},
   "outputs": [],
   "source": [
    "soup.find_all('tr')"
   ]
  },
  {
   "cell_type": "code",
   "execution_count": null,
   "metadata": {},
   "outputs": [],
   "source": [
    "c = -1\n",
    "for i in soup.find_all('script'):\n",
    "    c += 1\n",
    "    print(c)\n",
    "    print(i)"
   ]
  },
  {
   "cell_type": "code",
   "execution_count": null,
   "metadata": {},
   "outputs": [],
   "source": [
    "str(soup.find_all('script')[12])"
   ]
  },
  {
   "cell_type": "code",
   "execution_count": null,
   "metadata": {},
   "outputs": [],
   "source": [
    "soup.find_all('tr')"
   ]
  },
  {
   "cell_type": "markdown",
   "metadata": {},
   "source": [
    "### SELENIUM"
   ]
  },
  {
   "cell_type": "code",
   "execution_count": null,
   "metadata": {},
   "outputs": [],
   "source": [
    "chrome_options = webdriver.ChromeOptions()\n",
    "chrome_options.add_argument('headless')\n",
    "# chrome_options.add_argument('window-size=1920x1080')\n",
    "\n",
    "driver = webdriver.Chrome(options = chrome_options)\n",
    "driver = webdriver.Chrome(executable_path=r'C:\\Users\\wschupp\\Desktop\\NOMNCA - retail price scrape\\chromedriver.exe', options = chrome_options)\n",
    "driver.get(url)"
   ]
  },
  {
   "cell_type": "code",
   "execution_count": null,
   "metadata": {},
   "outputs": [],
   "source": [
    "#prices w/ product name iterable .text\n",
    "driver.find_elements_by_class_name('product')[0].text"
   ]
  },
  {
   "cell_type": "code",
   "execution_count": null,
   "metadata": {},
   "outputs": [],
   "source": []
  },
  {
   "cell_type": "code",
   "execution_count": null,
   "metadata": {},
   "outputs": [],
   "source": [
    "driver.quit()"
   ]
  },
  {
   "cell_type": "code",
   "execution_count": null,
   "metadata": {},
   "outputs": [],
   "source": [
    "def fetch_single_url_selenium(url, executeable_path = r'C:\\Users\\wschupp\\Desktop\\NOMNCA - retail price scrape\\chromedriver.exe'):\n",
    "    \n",
    "    # Initialising driver\n",
    "    chrome_options = webdriver.ChromeOptions()\n",
    "    chrome_options.add_argument('headless')\n",
    "    \n",
    "    driver = webdriver.Chrome(options = chrome_options)\n",
    "    driver = webdriver.Chrome(executable_path=executeable_path, options = chrome_options)\n",
    "    driver.get(url)\n",
    "    \n",
    "    #fetching name, id, prices\n",
    "    contents = _contents(driver.find_elements_by_class_name('product'))\n",
    "    \n",
    "    #adding dates to each content in contents\n",
    "    for i in contents:\n",
    "        i['year'] = int(url[-4:])\n",
    "        i['week'] = int(url[-7:-5])\n",
    "    \n",
    "    # closing browser\n",
    "    driver.quit()\n",
    "#     return driver\n",
    "    return contents\n",
    "    "
   ]
  },
  {
   "cell_type": "code",
   "execution_count": null,
   "metadata": {},
   "outputs": [],
   "source": [
    "fetch_single_url_selenium(url)"
   ]
  },
  {
   "cell_type": "code",
   "execution_count": null,
   "metadata": {},
   "outputs": [],
   "source": [
    "driver = fetch_single_url_selenium(url = url)"
   ]
  },
  {
   "cell_type": "code",
   "execution_count": null,
   "metadata": {},
   "outputs": [],
   "source": [
    "_contents(driver.find_elements_by_class_name('product'))"
   ]
  },
  {
   "cell_type": "code",
   "execution_count": null,
   "metadata": {},
   "outputs": [],
   "source": []
  },
  {
   "cell_type": "code",
   "execution_count": null,
   "metadata": {},
   "outputs": [],
   "source": [
    "def _contents(webelements):\n",
    "    '''\n",
    "    Loops over each row\n",
    "    '''\n",
    "    container = []\n",
    "    \n",
    "    for webelement in webelements:\n",
    "        container.append(_row_contents(webelement))\n",
    "    \n",
    "    return container\n",
    "    "
   ]
  },
  {
   "cell_type": "code",
   "execution_count": null,
   "metadata": {},
   "outputs": [],
   "source": [
    "def _row_contents(webelement):\n",
    "    \n",
    "    container = {}\n",
    "    \n",
    "    #id\n",
    "    container['product_id'] = webelement.get_attribute('data-product-id')\n",
    "    \n",
    "    #long str with all content\n",
    "    content_str = webelement.text\n",
    "    content_list = content_str.split('\\n')\n",
    "    \n",
    "    #names and type\n",
    "    container['product_name'] = content_list[0].strip()\n",
    "    container['product_type'] = content_list[1].strip()\n",
    "    \n",
    "    #Prices\n",
    "    price_list = content_list[2].split(' ')\n",
    "    price_list = [float(i) for i in price_list]\n",
    "    \n",
    "    container['price_KIWI'] = price_list[0]\n",
    "    container['price_MENY'] = price_list[1]\n",
    "    container['price_OBS'] = price_list[2]\n",
    "    container['price_REMA 1000'] = price_list[3]\n",
    "    container['price_SPAR'] = price_list[4]\n",
    "    container['price_EXTRA'] = price_list[5]\n",
    "\n",
    "    \n",
    "    return container\n",
    "    \n",
    "    \n",
    "    "
   ]
  },
  {
   "cell_type": "code",
   "execution_count": null,
   "metadata": {},
   "outputs": [],
   "source": [
    "_row_contents(driver.find_elements_by_class_name('product')[0])"
   ]
  },
  {
   "cell_type": "code",
   "execution_count": null,
   "metadata": {},
   "outputs": [],
   "source": [
    "#ID FOR PRODUCT\n",
    "driver.find_elements_by_class_name('product')[0].get_attribute('data-product-id')"
   ]
  },
  {
   "cell_type": "code",
   "execution_count": null,
   "metadata": {},
   "outputs": [],
   "source": [
    "#prices w/ product name iterable .text\n",
    "driver.find_elements_by_class_name('product')[0].text.split('\\n')[2].split(' ')"
   ]
  }
 ],
 "metadata": {
  "kernelspec": {
   "display_name": "Python 3",
   "language": "python",
   "name": "python3"
  },
  "language_info": {
   "codemirror_mode": {
    "name": "ipython",
    "version": 3
   },
   "file_extension": ".py",
   "mimetype": "text/x-python",
   "name": "python",
   "nbconvert_exporter": "python",
   "pygments_lexer": "ipython3",
   "version": "3.8.3"
  }
 },
 "nbformat": 4,
 "nbformat_minor": 4
}
